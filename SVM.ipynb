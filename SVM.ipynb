{
  "cells": [
    {
      "cell_type": "code",
      "execution_count": null,
      "metadata": {
        "colab": {
          "base_uri": "https://localhost:8080/"
        },
        "id": "pmKgITy2w9X8",
        "outputId": "f27b81a5-5cae-4e22-fad0-b0fb3f46f34c"
      },
      "outputs": [],
      "source": [
        "import numpy as np\n",
        "import pandas as pd\n",
        "import matplotlib.pyplot as plt\n",
        "from sklearn.metrics import confusion_matrix, precision_score, recall_score, f1_score, accuracy_score\n",
        "from sklearn.model_selection import train_test_split\n",
        "import seaborn as sns\n",
        "from sklearn.preprocessing import StandardScaler\n",
        "import joblib\n",
        "from cvxopt import matrix, solvers\n"
      ]
    },
    {
      "cell_type": "code",
      "execution_count": 2,
      "metadata": {
        "colab": {
          "base_uri": "https://localhost:8080/",
          "height": 235
        },
        "id": "EDvSO2bqw9X-",
        "outputId": "88cc8bbe-bc81-4d69-e6f2-abca95b5940c"
      },
      "outputs": [
        {
          "name": "stdout",
          "output_type": "stream",
          "text": [
            "<class 'pandas.core.frame.DataFrame'>\n",
            "RangeIndex: 430755 entries, 0 to 430754\n",
            "Data columns (total 30 columns):\n",
            " #   Column    Non-Null Count   Dtype  \n",
            "---  ------    --------------   -----  \n",
            " 0   _MICHD    430755 non-null  int64  \n",
            " 1   CHOLMED3  430755 non-null  int64  \n",
            " 2   GENHLTH   430755 non-null  int64  \n",
            " 3   MAXVO21_  430755 non-null  float64\n",
            " 4   EMPLOY1   430755 non-null  int64  \n",
            " 5   BPHIGH6   430755 non-null  int64  \n",
            " 6   DIABETE4  430755 non-null  int64  \n",
            " 7   CVDSTRK3  430755 non-null  int64  \n",
            " 8   _AGE80    430755 non-null  int64  \n",
            " 9   VETERAN3  430755 non-null  int64  \n",
            " 10  CHCCOPD3  430755 non-null  int64  \n",
            " 11  CHILDREN  430755 non-null  int64  \n",
            " 12  _DRDXAR2  430755 non-null  int64  \n",
            " 13  DEAF      430755 non-null  int64  \n",
            " 14  DIFFWALK  430755 non-null  int64  \n",
            " 15  TOLDHI3   430755 non-null  int64  \n",
            " 16  PHYSHLTH  430755 non-null  int64  \n",
            " 17  CHCKDNY2  430755 non-null  int64  \n",
            " 18  FALL12MN  430755 non-null  int64  \n",
            " 19  _RFCHOL3  430755 non-null  int64  \n",
            " 20  TRNSGNDR  430755 non-null  int64  \n",
            " 21  PVTRESD3  430755 non-null  int64  \n",
            " 22  PRIMINS1  430755 non-null  int64  \n",
            " 23  HAVARTH4  430755 non-null  int64  \n",
            " 24  DIFFALON  430755 non-null  int64  \n",
            " 25  SMOKE100  430755 non-null  int64  \n",
            " 26  ASTHMA3   430755 non-null  int64  \n",
            " 27  LANDLINE  430755 non-null  int64  \n",
            " 28  CHCOCNC1  430755 non-null  int64  \n",
            " 29  CVDINFR4  430755 non-null  int64  \n",
            "dtypes: float64(1), int64(29)\n",
            "memory usage: 98.6 MB\n"
          ]
        }
      ],
      "source": [
        "df = pd.read_csv ('./selected_columns.csv')\n",
        "\n",
        "\n",
        "\n",
        "df.info()"
      ]
    },
    {
      "cell_type": "code",
      "execution_count": 3,
      "metadata": {},
      "outputs": [
        {
          "data": {
            "text/plain": [
              "CVDINFR4\n",
              "0    407304\n",
              "1     23451\n",
              "Name: count, dtype: int64"
            ]
          },
          "execution_count": 3,
          "metadata": {},
          "output_type": "execute_result"
        }
      ],
      "source": [
        "#Kiểm tra các giá trị của CVDINFR4\n",
        "df['CVDINFR4'].value_counts()"
      ]
    },
    {
      "cell_type": "code",
      "execution_count": 4,
      "metadata": {},
      "outputs": [],
      "source": [
        "\n",
        "class SVM:\n",
        "    def __init__(self, C=1.0, class_weight=None, max_iter=1000):\n",
        "        self.C = C\n",
        "        self.class_weight = class_weight if class_weight else {0: 1.0, 1: 1.0}\n",
        "        self.max_iter = max_iter\n",
        "        \n",
        "    def fit(self, X, y):\n",
        "        y = y.astype(int)\n",
        "        unique_classes = np.unique(y)\n",
        "        assert set(unique_classes).issubset({0, 1}), \"Chỉ hỗ trợ binary classification\"\n",
        "        assert all(c in self.class_weight for c in unique_classes), \"Thiếu class weight\"\n",
        "\n",
        "        n_samples, n_features = X.shape\n",
        "        y_ = np.where(y == 0, -1, 1)\n",
        "        C_i = np.array([self.C * self.class_weight[c] for c in y])\n",
        "        \n",
        "        K = np.dot(X, X.T)\n",
        "        P = matrix(np.outer(y_, y_) * K)\n",
        "        q = matrix(-np.ones(n_samples))\n",
        "        \n",
        "        G = matrix(np.vstack((-np.eye(n_samples), np.eye(n_samples))))\n",
        "        h = matrix(np.hstack((np.zeros(n_samples), C_i)))\n",
        "        A = matrix(y_.reshape(1, -1).astype('double'))\n",
        "        b = matrix(0.0)\n",
        "        \n",
        "        # Tắt thông báo\n",
        "        solvers.options['show_progress'] = False\n",
        "        solvers.options['maxiters'] = self.max_iter\n",
        "        \n",
        "        solution = solvers.qp(P, q, G, h, A, b)\n",
        "        alphas = np.array(solution['x']).flatten()\n",
        "        \n",
        "        sv = alphas > 1e-5\n",
        "        self.alphas = alphas[sv]\n",
        "        self.sv_X = X[sv]\n",
        "        self.sv_y = y_[sv]\n",
        "\n",
        "        self.b = np.mean(\n",
        "            self.sv_y - \n",
        "            np.sum(self.alphas * self.sv_y * self.sv_X.dot(self.sv_X.T), axis=1)\n",
        "        )\n",
        "        \n",
        "    def predict(self, X):\n",
        "        decision = np.sum(self.alphas * self.sv_y * X.dot(self.sv_X.T), axis=1) + self.b\n",
        "        return np.where(decision >= 0, 1, 0)"
      ]
    },
    {
      "cell_type": "code",
      "execution_count": 5,
      "metadata": {},
      "outputs": [],
      "source": [
        "def plot_confusion_matrix(y_true, y_pred, model_name):\n",
        "    cm = confusion_matrix(y_true, y_pred)\n",
        "    plt.figure(figsize=(6, 4))\n",
        "    sns.heatmap(cm, annot=True, fmt='d', cmap='Blues', cbar=False,\n",
        "                xticklabels=['No CVD', 'CVD'], yticklabels=['No CVD', 'CVD'])\n",
        "    plt.title(f'Confusion Matrix for {model_name}')\n",
        "    plt.xlabel('Predicted')\n",
        "    plt.ylabel('True')\n",
        "    plt.tight_layout()\n",
        "    plt.show()\n",
        "# Hàm đánh giá\n",
        "def evaluate_model(y_true, y_pred, model_name):\n",
        "    print(f\"Đánh giá cho {model_name}:\")\n",
        "    print(f\"Accuracy: {accuracy_score(y_true, y_pred):.4f}\")\n",
        "    print(f\"Precision: {precision_score(y_true, y_pred):.4f}\")\n",
        "    print(f\"Recall: {recall_score(y_true, y_pred):.4f}\")\n",
        "    print(f\"F1 Score: {f1_score(y_true, y_pred):.4f}\")\n",
        "    plot_confusion_matrix(y_true, y_pred, model_name)\n"
      ]
    },
    {
      "cell_type": "code",
      "execution_count": 6,
      "metadata": {},
      "outputs": [],
      "source": [
        "\n",
        "# Chuẩn bị dữ liệu\n",
        "X = df.drop('CVDINFR4', axis=1)\n",
        "y = df['CVDINFR4']\n",
        "# Chia tập train-test\n",
        "X_train, X_test, y_train, y_test = train_test_split(X, y, test_size=0.3, random_state=42)\n",
        "X_train_svm = X_train.sample(frac=0.05, random_state=42)  \n",
        "y_train_svm = y_train.loc[X_train_svm.index]  # Lấy y tương ứng\n",
        "\n",
        "\n",
        "scaler = StandardScaler()\n",
        "X_train_scaled = scaler.fit_transform(X_train_svm)\n",
        "X_test_scaled = scaler.transform(X_test)\n",
        "\n"
      ]
    },
    {
      "cell_type": "code",
      "execution_count": 7,
      "metadata": {},
      "outputs": [
        {
          "name": "stdout",
          "output_type": "stream",
          "text": [
            "Đánh giá cho SVM:\n",
            "Accuracy: 0.9709\n",
            "Precision: 0.6528\n",
            "Recall: 1.0000\n",
            "F1 Score: 0.7899\n"
          ]
        },
        {
          "data": {
            "image/png": "[encoded data removed]",
            "text/plain": [
              "<Figure size 600x400 with 1 Axes>"
            ]
          },
          "metadata": {},
          "output_type": "display_data"
        }
      ],
      "source": [
        "svm = SVM(\n",
        "    C=31.418972875029368,\n",
        "    class_weight={0: 1, 1: 18},\n",
        "    max_iter=1000\n",
        ")\n",
        "svm.fit(X_train_scaled, y_train_svm.values)\n",
        "y_pred_svm = svm.predict(X_test_scaled)\n",
        "evaluate_model(y_test, y_pred_svm, \"SVM\")"
      ]
    },
    {
      "cell_type": "code",
      "execution_count": 8,
      "metadata": {},
      "outputs": [
        {
          "data": {
            "text/plain": [
              "['_svm.pkl']"
            ]
          },
          "execution_count": 8,
          "metadata": {},
          "output_type": "execute_result"
        }
      ],
      "source": [
        "joblib.dump(svm, '_svm.pkl')\n"
      ]
    }
  ],
  "metadata": {
    "accelerator": "GPU",
    "colab": {
      "gpuType": "T4",
      "provenance": []
    },
    "kernelspec": {
      "display_name": ".venv",
      "language": "python",
      "name": "python3"
    },
    "language_info": {
      "codemirror_mode": {
        "name": "ipython",
        "version": 3
      },
      "file_extension": ".py",
      "mimetype": "text/x-python",
      "name": "python",
      "nbconvert_exporter": "python",
      "pygments_lexer": "ipython3",
      "version": "3.12.10"
    }
  },
  "nbformat": 4,
  "nbformat_minor": 0
}
