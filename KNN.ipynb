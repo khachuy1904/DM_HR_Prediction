{
  "cells": [
    {
      "cell_type": "markdown",
      "metadata": {
        "id": "clM5K_bsw9X8"
      },
      "source": [
        "# Thêm các thư viện cần dùng"
      ]
    },
    {
      "cell_type": "markdown",
      "metadata": {},
      "source": []
    },
    {
      "cell_type": "code",
      "execution_count": 1,
      "metadata": {
        "colab": {
          "base_uri": "https://localhost:8080/"
        },
        "id": "pmKgITy2w9X8",
        "outputId": "f27b81a5-5cae-4e22-fad0-b0fb3f46f34c"
      },
      "outputs": [],
      "source": [
        "import numpy as np\n",
        "import pandas as pd\n",
        "import matplotlib.pyplot as plt\n",
        "from sklearn.metrics import confusion_matrix, precision_score, recall_score, f1_score, accuracy_score\n",
        "from sklearn.model_selection import train_test_split\n",
        "import seaborn as sns\n",
        "import joblib\n",
        "from collections import Counter, defaultdict\n",
        "\n"
      ]
    },
    {
      "cell_type": "markdown",
      "metadata": {
        "id": "8F48CWmdw9X9"
      },
      "source": [
        "# TRÍCH XUẤT ĐẶC TRƯNG"
      ]
    },
    {
      "cell_type": "markdown",
      "metadata": {
        "id": "eBJIk8j_w9X9"
      },
      "source": [
        "Bởi bộ dữ liệu này quá lớn, vậy nên chúng tôi quyết định dùng 1 phần nhỏ của bộ data này, cụ thể là dữ liệu của năm 2015 để tiến hành phân tích và rút ra các đặc trưng quan trọng trong việc training mô hình"
      ]
    },
    {
      "cell_type": "code",
      "execution_count": 2,
      "metadata": {
        "colab": {
          "base_uri": "https://localhost:8080/",
          "height": 235
        },
        "id": "EDvSO2bqw9X-",
        "outputId": "88cc8bbe-bc81-4d69-e6f2-abca95b5940c"
      },
      "outputs": [
        {
          "name": "stdout",
          "output_type": "stream",
          "text": [
            "<class 'pandas.core.frame.DataFrame'>\n",
            "RangeIndex: 430755 entries, 0 to 430754\n",
            "Data columns (total 30 columns):\n",
            " #   Column    Non-Null Count   Dtype  \n",
            "---  ------    --------------   -----  \n",
            " 0   _MICHD    430755 non-null  int64  \n",
            " 1   CHOLMED3  430755 non-null  int64  \n",
            " 2   GENHLTH   430755 non-null  int64  \n",
            " 3   MAXVO21_  430755 non-null  float64\n",
            " 4   EMPLOY1   430755 non-null  int64  \n",
            " 5   BPHIGH6   430755 non-null  int64  \n",
            " 6   DIABETE4  430755 non-null  int64  \n",
            " 7   CVDSTRK3  430755 non-null  int64  \n",
            " 8   _AGE80    430755 non-null  int64  \n",
            " 9   VETERAN3  430755 non-null  int64  \n",
            " 10  CHCCOPD3  430755 non-null  int64  \n",
            " 11  CHILDREN  430755 non-null  int64  \n",
            " 12  _DRDXAR2  430755 non-null  int64  \n",
            " 13  DEAF      430755 non-null  int64  \n",
            " 14  DIFFWALK  430755 non-null  int64  \n",
            " 15  TOLDHI3   430755 non-null  int64  \n",
            " 16  PHYSHLTH  430755 non-null  int64  \n",
            " 17  CHCKDNY2  430755 non-null  int64  \n",
            " 18  FALL12MN  430755 non-null  int64  \n",
            " 19  _RFCHOL3  430755 non-null  int64  \n",
            " 20  TRNSGNDR  430755 non-null  int64  \n",
            " 21  PVTRESD3  430755 non-null  int64  \n",
            " 22  PRIMINS1  430755 non-null  int64  \n",
            " 23  HAVARTH4  430755 non-null  int64  \n",
            " 24  DIFFALON  430755 non-null  int64  \n",
            " 25  SMOKE100  430755 non-null  int64  \n",
            " 26  ASTHMA3   430755 non-null  int64  \n",
            " 27  LANDLINE  430755 non-null  int64  \n",
            " 28  CHCOCNC1  430755 non-null  int64  \n",
            " 29  CVDINFR4  430755 non-null  int64  \n",
            "dtypes: float64(1), int64(29)\n",
            "memory usage: 98.6 MB\n"
          ]
        }
      ],
      "source": [
        "df = pd.read_csv ('./selected_columns.csv')\n",
        "df.info()"
      ]
    },
    {
      "cell_type": "code",
      "execution_count": 3,
      "metadata": {},
      "outputs": [
        {
          "data": {
            "text/plain": [
              "CVDINFR4\n",
              "0    407304\n",
              "1     23451\n",
              "Name: count, dtype: int64"
            ]
          },
          "execution_count": 3,
          "metadata": {},
          "output_type": "execute_result"
        }
      ],
      "source": [
        "#Kiểm tra các giá trị của CVDINFR4\n",
        "df['CVDINFR4'].value_counts()"
      ]
    },
    {
      "cell_type": "code",
      "execution_count": 4,
      "metadata": {},
      "outputs": [],
      "source": [
        "\n",
        "class KNN:\n",
        "    def __init__(self, k=7, eps=1e-8):\n",
        "        self.k = k\n",
        "        self.eps = eps  # Prevents division by zero\n",
        "        \n",
        "    def fit(self, X, y):\n",
        "        self.X_train = X\n",
        "        self.y_train = y\n",
        "        self.classes = np.unique(y)\n",
        "        \n",
        "    def euclidean_distance(self, x1, x2):\n",
        "        return np.sqrt(np.sum((x1 - x2)**2 + self.eps))  # Add epsilon\n",
        "    \n",
        "    def predict(self, X_test):\n",
        "        y_pred = []\n",
        "        for x in X_test:\n",
        "            # Calculate all distances\n",
        "            distances = [(self.euclidean_distance(x, x_train), y_i) \n",
        "                        for x_train, y_i in zip(self.X_train, self.y_train)]\n",
        "            \n",
        "            # Get k nearest with distance weighting\n",
        "            k_nearest = sorted(distances, key=lambda x: x[0])[:self.k]\n",
        "            class_weights = defaultdict(float)\n",
        "            \n",
        "            for dist, label in k_nearest:\n",
        "                weight = 1 / (dist + self.eps)  # Inverse distance weighting\n",
        "                class_weights[label] += weight\n",
        "                \n",
        "            # Predict class with highest cumulative weight\n",
        "            if not class_weights:\n",
        "                y_pred.append(self.classes[0])  # Fallback to first class\n",
        "            else:\n",
        "                y_pred.append(max(class_weights, key=class_weights.get))\n",
        "                \n",
        "        return np.array(y_pred)\n",
        "    \n",
        "    def predict_proba(self, X_test):\n",
        "        probas = []\n",
        "        for x in X_test:\n",
        "            distances = [(self.euclidean_distance(x, x_train), y_i) \n",
        "                        for x_train, y_i in zip(self.X_train, self.y_train)]\n",
        "            \n",
        "            k_nearest = sorted(distances, key=lambda x: x[0])[:self.k]\n",
        "            class_weights = defaultdict(float)\n",
        "            \n",
        "            # Sum weights per class\n",
        "            for dist, label in k_nearest:\n",
        "                weight = 1 / (dist + self.eps)\n",
        "                class_weights[label] += weight\n",
        "                \n",
        "            # Laplace smoothing\n",
        "            total = sum(class_weights.values()) + len(self.classes)*self.eps\n",
        "            probabilities = []\n",
        "            \n",
        "            for cls in self.classes:\n",
        "                prob = (class_weights.get(cls, 0) + self.eps) / total\n",
        "                probabilities.append(prob)\n",
        "                \n",
        "            probas.append(probabilities)\n",
        "            \n",
        "        return np.array(probas)"
      ]
    },
    {
      "cell_type": "code",
      "execution_count": 5,
      "metadata": {},
      "outputs": [],
      "source": [
        "\n",
        "\n",
        "def plot_confusion_matrix(y_true, y_pred, model_name):\n",
        "    cm = confusion_matrix(y_true, y_pred)\n",
        "    plt.figure(figsize=(6, 4))\n",
        "    sns.heatmap(cm, annot=True, fmt='d', cmap='Blues', cbar=False,\n",
        "                xticklabels=['No CVD', 'CVD'], yticklabels=['No CVD', 'CVD'])\n",
        "    plt.title(f'Confusion Matrix for {model_name}')\n",
        "    plt.xlabel('Predicted')\n",
        "    plt.ylabel('True')\n",
        "    plt.tight_layout()\n",
        "    plt.show()\n",
        "# Hàm đánh giá\n",
        "def evaluate_model(y_true, y_pred, model_name):\n",
        "    print(f\"Đánh giá cho {model_name}:\")\n",
        "    print(f\"Accuracy: {accuracy_score(y_true, y_pred):.4f}\")\n",
        "    print(f\"Precision: {precision_score(y_true, y_pred):.4f}\")\n",
        "    print(f\"Recall: {recall_score(y_true, y_pred):.4f}\")\n",
        "    print(f\"F1 Score: {f1_score(y_true, y_pred):.4f}\")\n",
        "    plot_confusion_matrix(y_true, y_pred, model_name)\n"
      ]
    },
    {
      "cell_type": "code",
      "execution_count": 6,
      "metadata": {},
      "outputs": [],
      "source": [
        "\n",
        "# Chuẩn bị dữ liệu\n",
        "X = df.drop('CVDINFR4', axis=1)\n",
        "y = df['CVDINFR4']\n",
        "\n",
        "# Chia tập train-test\n",
        "X_train, X_test, y_train, y_test = train_test_split(X, y, test_size=0.3, random_state=42)\n",
        "X_train = X_train.sample(frac=0.05, random_state=42)  \n",
        "y_train = y_train.loc[X_train.index]\n",
        "\n",
        "\n",
        "\n",
        "\n"
      ]
    },
    {
      "cell_type": "code",
      "execution_count": 7,
      "metadata": {},
      "outputs": [
        {
          "name": "stdout",
          "output_type": "stream",
          "text": [
            "Đánh giá cho KNN:\n",
            "Accuracy: 0.9413\n",
            "Precision: 0.2141\n",
            "Recall: 0.0274\n",
            "F1 Score: 0.0486\n"
          ]
        },
        {
          "data": {
            "image/png": "[encoded data removed]",
            "text/plain": [
              "<Figure size 600x400 with 1 Axes>"
            ]
          },
          "metadata": {},
          "output_type": "display_data"
        }
      ],
      "source": [
        "knn = KNN(k=7)\n",
        "knn.fit(X_train.values, y_train.values)\n",
        "y_pred_knn = knn.predict(X_test.values)\n",
        "evaluate_model(y_test, y_pred_knn, \"KNN\")"
      ]
    },
    {
      "cell_type": "code",
      "execution_count": 8,
      "metadata": {},
      "outputs": [
        {
          "data": {
            "text/plain": [
              "['_knn.pkl']"
            ]
          },
          "execution_count": 8,
          "metadata": {},
          "output_type": "execute_result"
        }
      ],
      "source": [
        "\n",
        "joblib.dump(knn, '_knn.pkl')\n"
      ]
    }
  ],
  "metadata": {
    "accelerator": "GPU",
    "colab": {
      "gpuType": "T4",
      "provenance": []
    },
    "kernelspec": {
      "display_name": ".venv",
      "language": "python",
      "name": "python3"
    },
    "language_info": {
      "codemirror_mode": {
        "name": "ipython",
        "version": 3
      },
      "file_extension": ".py",
      "mimetype": "text/x-python",
      "name": "python",
      "nbconvert_exporter": "python",
      "pygments_lexer": "ipython3",
      "version": "3.12.10"
    }
  },
  "nbformat": 4,
  "nbformat_minor": 0
}
