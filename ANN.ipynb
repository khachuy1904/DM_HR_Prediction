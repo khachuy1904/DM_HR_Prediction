{
  "cells": [
    {
      "cell_type": "code",
      "execution_count": 1,
      "metadata": {
        "colab": {
          "base_uri": "https://localhost:8080/"
        },
        "id": "pmKgITy2w9X8",
        "outputId": "f27b81a5-5cae-4e22-fad0-b0fb3f46f34c"
      },
      "outputs": [],
      "source": [
        "import numpy as np\n",
        "import pandas as pd\n",
        "import matplotlib.pyplot as plt\n",
        "from sklearn.metrics import confusion_matrix, precision_score, recall_score, f1_score, accuracy_score\n",
        "from sklearn.model_selection import train_test_split\n",
        "from sklearn.preprocessing import StandardScaler\n",
        "import seaborn as sns\n",
        "import joblib\n",
        "\n"
      ]
    },
    {
      "cell_type": "code",
      "execution_count": 2,
      "metadata": {
        "colab": {
          "base_uri": "https://localhost:8080/",
          "height": 235
        },
        "id": "EDvSO2bqw9X-",
        "outputId": "88cc8bbe-bc81-4d69-e6f2-abca95b5940c"
      },
      "outputs": [
        {
          "name": "stdout",
          "output_type": "stream",
          "text": [
            "<class 'pandas.core.frame.DataFrame'>\n",
            "RangeIndex: 430755 entries, 0 to 430754\n",
            "Data columns (total 30 columns):\n",
            " #   Column    Non-Null Count   Dtype  \n",
            "---  ------    --------------   -----  \n",
            " 0   _MICHD    430755 non-null  int64  \n",
            " 1   CHOLMED3  430755 non-null  int64  \n",
            " 2   GENHLTH   430755 non-null  int64  \n",
            " 3   MAXVO21_  430755 non-null  float64\n",
            " 4   EMPLOY1   430755 non-null  int64  \n",
            " 5   BPHIGH6   430755 non-null  int64  \n",
            " 6   DIABETE4  430755 non-null  int64  \n",
            " 7   CVDSTRK3  430755 non-null  int64  \n",
            " 8   _AGE80    430755 non-null  int64  \n",
            " 9   VETERAN3  430755 non-null  int64  \n",
            " 10  CHCCOPD3  430755 non-null  int64  \n",
            " 11  CHILDREN  430755 non-null  int64  \n",
            " 12  _DRDXAR2  430755 non-null  int64  \n",
            " 13  DEAF      430755 non-null  int64  \n",
            " 14  DIFFWALK  430755 non-null  int64  \n",
            " 15  TOLDHI3   430755 non-null  int64  \n",
            " 16  PHYSHLTH  430755 non-null  int64  \n",
            " 17  CHCKDNY2  430755 non-null  int64  \n",
            " 18  FALL12MN  430755 non-null  int64  \n",
            " 19  _RFCHOL3  430755 non-null  int64  \n",
            " 20  TRNSGNDR  430755 non-null  int64  \n",
            " 21  PVTRESD3  430755 non-null  int64  \n",
            " 22  PRIMINS1  430755 non-null  int64  \n",
            " 23  HAVARTH4  430755 non-null  int64  \n",
            " 24  DIFFALON  430755 non-null  int64  \n",
            " 25  SMOKE100  430755 non-null  int64  \n",
            " 26  ASTHMA3   430755 non-null  int64  \n",
            " 27  LANDLINE  430755 non-null  int64  \n",
            " 28  CHCOCNC1  430755 non-null  int64  \n",
            " 29  CVDINFR4  430755 non-null  int64  \n",
            "dtypes: float64(1), int64(29)\n",
            "memory usage: 98.6 MB\n"
          ]
        }
      ],
      "source": [
        "df = pd.read_csv ('./selected_columns.csv')\n",
        "df.info()"
      ]
    },
    {
      "cell_type": "code",
      "execution_count": 3,
      "metadata": {},
      "outputs": [
        {
          "data": {
            "text/plain": [
              "CVDINFR4\n",
              "0    407304\n",
              "1     23451\n",
              "Name: count, dtype: int64"
            ]
          },
          "execution_count": 3,
          "metadata": {},
          "output_type": "execute_result"
        }
      ],
      "source": [
        "#Kiểm tra các giá trị của CVDINFR4\n",
        "df['CVDINFR4'].value_counts()"
      ]
    },
    {
      "cell_type": "code",
      "execution_count": 4,
      "metadata": {},
      "outputs": [],
      "source": [
        "\n",
        "\n",
        "def plot_confusion_matrix(y_true, y_pred, model_name):\n",
        "    cm = confusion_matrix(y_true, y_pred)\n",
        "    plt.figure(figsize=(6, 4))\n",
        "    sns.heatmap(cm, annot=True, fmt='d', cmap='Blues', cbar=False,\n",
        "                xticklabels=['No CVD', 'CVD'], yticklabels=['No CVD', 'CVD'])\n",
        "    plt.title(f'Confusion Matrix for {model_name}')\n",
        "    plt.xlabel('Predicted')\n",
        "    plt.ylabel('True')\n",
        "    plt.tight_layout()\n",
        "    plt.show()\n",
        "# Hàm đánh giá\n",
        "def evaluate_model(y_true, y_pred, model_name):\n",
        "    print(f\"Đánh giá cho {model_name}:\")\n",
        "    print(f\"Accuracy: {accuracy_score(y_true, y_pred):.4f}\")\n",
        "    print(f\"Precision: {precision_score(y_true, y_pred):.4f}\")\n",
        "    print(f\"Recall: {recall_score(y_true, y_pred):.4f}\")\n",
        "    print(f\"F1 Score: {f1_score(y_true, y_pred):.4f}\")\n",
        "    plot_confusion_matrix(y_true, y_pred, model_name)\n"
      ]
    },
    {
      "cell_type": "code",
      "execution_count": 5,
      "metadata": {},
      "outputs": [],
      "source": [
        "\n",
        "class NeuralNetwork:\n",
        "    def __init__(self, input_size, class_weight=None):\n",
        "        # Khởi tạo các tham số\n",
        "        self.W1 = np.random.randn(input_size, 128) * np.sqrt(2./input_size)\n",
        "        self.b1 = np.zeros(128)\n",
        "        self.W2 = np.random.randn(128, 64) * np.sqrt(2./128)\n",
        "        self.b2 = np.zeros(64)\n",
        "        self.W3 = np.random.randn(64, 32) * np.sqrt(2./64)\n",
        "        self.b3 = np.zeros(32)\n",
        "        self.W4 = np.random.randn(32, 1) * np.sqrt(2./32)\n",
        "        self.b4 = np.array([np.log(2319/40757)])  # Khởi tạo bias\n",
        "        \n",
        "        # Adam parameters\n",
        "        self.m_W = [np.zeros_like(w) for w in [self.W1, self.W2, self.W3, self.W4]]\n",
        "        self.v_W = [np.zeros_like(w) for w in [self.W1, self.W2, self.W3, self.W4]]\n",
        "        self.m_b = [np.zeros_like(b) for b in [self.b1, self.b2, self.b3, self.b4]]\n",
        "        self.v_b = [np.zeros_like(b) for b in [self.b1, self.b2, self.b3, self.b4]]\n",
        "        \n",
        "        self.class_weight = class_weight or {0:1, 1:1}\n",
        "        self.eps = 1e-8\n",
        "        self.beta1 = 0.9\n",
        "        self.beta2 = 0.999\n",
        "        self.t = 0\n",
        "\n",
        "    def relu(self, x):\n",
        "        return np.maximum(0, x)\n",
        "\n",
        "    def sigmoid(self, x):\n",
        "        return 1 / (1 + np.exp(-np.clip(x, -500, 500)))\n",
        "\n",
        "    def forward(self, X):\n",
        "        # Layer 1\n",
        "        self.z1 = X.dot(self.W1) + self.b1\n",
        "        self.a1 = self.relu(self.z1)\n",
        "        \n",
        "        # Layer 2\n",
        "        self.z2 = self.a1.dot(self.W2) + self.b2\n",
        "        self.a2 = self.relu(self.z2)\n",
        "        \n",
        "        # Layer 3\n",
        "        self.z3 = self.a2.dot(self.W3) + self.b3\n",
        "        self.a3 = self.relu(self.z3)\n",
        "        \n",
        "        # Output layer\n",
        "        self.z4 = self.a3.dot(self.W4) + self.b4\n",
        "        return self.sigmoid(self.z4)\n",
        "\n",
        "    def compute_loss(self, y, y_pred):\n",
        "        y = y.reshape(-1, 1)\n",
        "        weights = np.vectorize(lambda x: self.class_weight[x])(y)\n",
        "        y_pred = np.clip(y_pred, 1e-7, 1-1e-7)\n",
        "        return -np.mean(weights * (y * np.log(y_pred) + (1 - y) * np.log(1 - y_pred)))\n",
        "\n",
        "    def update(self, param, m, v, grad, lr):\n",
        "        self.t += 1\n",
        "        m = self.beta1 * m + (1 - self.beta1) * grad\n",
        "        v = self.beta2 * v + (1 - self.beta2) * (grad**2)\n",
        "        m_hat = m / (1 - self.beta1**self.t)\n",
        "        v_hat = v / (1 - self.beta2**self.t)\n",
        "        return param - lr * m_hat / (np.sqrt(v_hat) + self.eps), m, v\n",
        "\n",
        "    def fit(self, X, y, X_val, y_val, epochs=100, lr=0.001, batch_size=128):\n",
        "        best_f1 = 0\n",
        "        best_thresh = 0.5\n",
        "        \n",
        "        for epoch in range(epochs):\n",
        "            # Mini-batch training\n",
        "            indices = np.random.permutation(X.shape[0])\n",
        "            for i in range(0, X.shape[0], batch_size):\n",
        "                batch_idx = indices[i:i+batch_size]\n",
        "                X_batch = X[batch_idx]\n",
        "                y_batch = y.iloc[batch_idx].values\n",
        "                \n",
        "                # Forward pass\n",
        "                y_pred = self.forward(X_batch)\n",
        "                \n",
        "                # Backpropagation\n",
        "                grad_z4 = (y_pred - y_batch.reshape(-1,1)) * np.vectorize(lambda x: self.class_weight[x])(y_batch).reshape(-1,1) / batch_size\n",
        "                \n",
        "                # Gradients\n",
        "                grad_W4 = self.a3.T.dot(grad_z4)\n",
        "                grad_b4 = np.sum(grad_z4, axis=0)\n",
        "                \n",
        "                grad_a3 = grad_z4.dot(self.W4.T)\n",
        "                grad_z3 = grad_a3 * (self.z3 > 0)\n",
        "                grad_W3 = self.a2.T.dot(grad_z3)\n",
        "                grad_b3 = np.sum(grad_z3, axis=0)\n",
        "                \n",
        "                grad_a2 = grad_z3.dot(self.W3.T)\n",
        "                grad_z2 = grad_a2 * (self.z2 > 0)\n",
        "                grad_W2 = self.a1.T.dot(grad_z2)\n",
        "                grad_b2 = np.sum(grad_z2, axis=0)\n",
        "                \n",
        "                grad_a1 = grad_z2.dot(self.W2.T)\n",
        "                grad_z1 = grad_a1 * (self.z1 > 0)\n",
        "                grad_W1 = X_batch.T.dot(grad_z1)\n",
        "                grad_b1 = np.sum(grad_z1, axis=0)\n",
        "                \n",
        "                # Update parameters with Adam\n",
        "                self.W4, self.m_W[3], self.v_W[3] = self.update(self.W4, self.m_W[3], self.v_W[3], grad_W4, lr)\n",
        "                self.b4, self.m_b[3], self.v_b[3] = self.update(self.b4, self.m_b[3], self.v_b[3], grad_b4, lr)\n",
        "                self.W3, self.m_W[2], self.v_W[2] = self.update(self.W3, self.m_W[2], self.v_W[2], grad_W3, lr)\n",
        "                self.b3, self.m_b[2], self.v_b[2] = self.update(self.b3, self.m_b[2], self.v_b[2], grad_b3, lr)\n",
        "                self.W2, self.m_W[1], self.v_W[1] = self.update(self.W2, self.m_W[1], self.v_W[1], grad_W2, lr)\n",
        "                self.b2, self.m_b[1], self.v_b[1] = self.update(self.b2, self.m_b[1], self.v_b[1], grad_b2, lr)\n",
        "                self.W1, self.m_W[0], self.v_W[0] = self.update(self.W1, self.m_W[0], self.v_W[0], grad_W1, lr)\n",
        "                self.b1, self.m_b[0], self.v_b[0] = self.update(self.b1, self.m_b[0], self.v_b[0], grad_b1, lr)\n",
        "            \n",
        "            # Tìm ngưỡng tối ưu trên validation set\n",
        "            y_val_pred = self.forward(X_val).flatten()\n",
        "            thresholds = np.linspace(0.1, 0.5, 50)\n",
        "            current_best_f1 = 0\n",
        "            for thresh in thresholds:\n",
        "                current_f1 = f1_score(y_val, (y_val_pred >= thresh).astype(int))\n",
        "                if current_f1 > current_best_f1:\n",
        "                    current_best_f1 = current_f1\n",
        "                    best_thresh = thresh\n",
        "            \n",
        "\n",
        "\n",
        "        self.best_thresh = best_thresh\n",
        "\n"
      ]
    },
    {
      "cell_type": "code",
      "execution_count": 6,
      "metadata": {},
      "outputs": [],
      "source": [
        "\n",
        "X = df.drop('CVDINFR4', axis=1)\n",
        "y = df['CVDINFR4']\n",
        "\n",
        "X_train, X_test, y_train, y_test = train_test_split(X, y, test_size=0.3, random_state=42)\n",
        "\n",
        "scaler = StandardScaler()\n",
        "X_train_nn = scaler.fit_transform(X_train)  \n",
        "X_test_nn = scaler.transform(X_test)\n",
        "\n",
        "# validation set\n",
        "X_train_nn, X_val_nn, y_train, y_val = train_test_split(\n",
        "    X_train_nn, y_train, \n",
        "    test_size=0.2, \n",
        "    stratify=y_train, \n",
        "    random_state=42\n",
        ")\n"
      ]
    },
    {
      "cell_type": "code",
      "execution_count": 7,
      "metadata": {},
      "outputs": [
        {
          "name": "stdout",
          "output_type": "stream",
          "text": [
            "Đánh giá cho ANN:\n",
            "Accuracy: 0.9706\n",
            "Precision: 0.6528\n",
            "Recall: 0.9900\n",
            "F1 Score: 0.7868\n"
          ]
        },
        {
          "data": {
            "image/png": "[encoded data removed]",
            "text/plain": [
              "<Figure size 600x400 with 1 Axes>"
            ]
          },
          "metadata": {},
          "output_type": "display_data"
        }
      ],
      "source": [
        "\n",
        "class_weight = {0: 1, 1: 17.57}\n",
        "ann = NeuralNetwork(input_size=X_train_nn.shape[1], class_weight=class_weight)\n",
        "ann.fit(X_train_nn, y_train, X_val_nn, y_val, epochs=50, lr=0.001)\n",
        "\n",
        "# Đánh giá trên test set\n",
        "y_proba = ann.forward(X_test_nn).flatten()\n",
        "y_pred = (y_proba >= ann.best_thresh).astype(int)\n",
        "evaluate_model(y_test, y_pred, \"ANN\")"
      ]
    },
    {
      "cell_type": "code",
      "execution_count": 8,
      "metadata": {},
      "outputs": [
        {
          "data": {
            "text/plain": [
              "['_ann.pkl']"
            ]
          },
          "execution_count": 8,
          "metadata": {},
          "output_type": "execute_result"
        }
      ],
      "source": [
        "\n",
        "joblib.dump(ann, '_ann.pkl')"
      ]
    }
  ],
  "metadata": {
    "accelerator": "GPU",
    "colab": {
      "gpuType": "T4",
      "provenance": []
    },
    "kernelspec": {
      "display_name": ".venv",
      "language": "python",
      "name": "python3"
    },
    "language_info": {
      "codemirror_mode": {
        "name": "ipython",
        "version": 3
      },
      "file_extension": ".py",
      "mimetype": "text/x-python",
      "name": "python",
      "nbconvert_exporter": "python",
      "pygments_lexer": "ipython3",
      "version": "3.12.10"
    }
  },
  "nbformat": 4,
  "nbformat_minor": 0
}
