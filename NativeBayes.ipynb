{
  "cells": [
    {
      "cell_type": "markdown",
      "metadata": {
        "id": "clM5K_bsw9X8"
      },
      "source": [
        "# Thêm các thư viện cần dùng"
      ]
    },
    {
      "cell_type": "code",
      "execution_count": 1,
      "metadata": {
        "colab": {
          "base_uri": "https://localhost:8080/"
        },
        "id": "pmKgITy2w9X8",
        "outputId": "f27b81a5-5cae-4e22-fad0-b0fb3f46f34c"
      },
      "outputs": [],
      "source": [
        "import numpy as np\n",
        "import pandas as pd\n",
        "import seaborn as sns\n",
        "import matplotlib.pyplot as plt\n",
        "from sklearn.metrics import confusion_matrix, precision_score, recall_score, f1_score, accuracy_score\n",
        "import joblib\n",
        "from sklearn.model_selection import train_test_split\n",
        "\n",
        "\n"
      ]
    },
    {
      "cell_type": "code",
      "execution_count": 2,
      "metadata": {
        "colab": {
          "base_uri": "https://localhost:8080/",
          "height": 235
        },
        "id": "EDvSO2bqw9X-",
        "outputId": "88cc8bbe-bc81-4d69-e6f2-abca95b5940c"
      },
      "outputs": [
        {
          "name": "stdout",
          "output_type": "stream",
          "text": [
            "<class 'pandas.core.frame.DataFrame'>\n",
            "RangeIndex: 430755 entries, 0 to 430754\n",
            "Data columns (total 30 columns):\n",
            " #   Column    Non-Null Count   Dtype  \n",
            "---  ------    --------------   -----  \n",
            " 0   _MICHD    430755 non-null  int64  \n",
            " 1   CHOLMED3  430755 non-null  int64  \n",
            " 2   GENHLTH   430755 non-null  int64  \n",
            " 3   MAXVO21_  430755 non-null  float64\n",
            " 4   EMPLOY1   430755 non-null  int64  \n",
            " 5   BPHIGH6   430755 non-null  int64  \n",
            " 6   DIABETE4  430755 non-null  int64  \n",
            " 7   CVDSTRK3  430755 non-null  int64  \n",
            " 8   _AGE80    430755 non-null  int64  \n",
            " 9   VETERAN3  430755 non-null  int64  \n",
            " 10  CHCCOPD3  430755 non-null  int64  \n",
            " 11  CHILDREN  430755 non-null  int64  \n",
            " 12  _DRDXAR2  430755 non-null  int64  \n",
            " 13  DEAF      430755 non-null  int64  \n",
            " 14  DIFFWALK  430755 non-null  int64  \n",
            " 15  TOLDHI3   430755 non-null  int64  \n",
            " 16  PHYSHLTH  430755 non-null  int64  \n",
            " 17  CHCKDNY2  430755 non-null  int64  \n",
            " 18  FALL12MN  430755 non-null  int64  \n",
            " 19  _RFCHOL3  430755 non-null  int64  \n",
            " 20  TRNSGNDR  430755 non-null  int64  \n",
            " 21  PVTRESD3  430755 non-null  int64  \n",
            " 22  PRIMINS1  430755 non-null  int64  \n",
            " 23  HAVARTH4  430755 non-null  int64  \n",
            " 24  DIFFALON  430755 non-null  int64  \n",
            " 25  SMOKE100  430755 non-null  int64  \n",
            " 26  ASTHMA3   430755 non-null  int64  \n",
            " 27  LANDLINE  430755 non-null  int64  \n",
            " 28  CHCOCNC1  430755 non-null  int64  \n",
            " 29  CVDINFR4  430755 non-null  int64  \n",
            "dtypes: float64(1), int64(29)\n",
            "memory usage: 98.6 MB\n"
          ]
        }
      ],
      "source": [
        "df = pd.read_csv ('./selected_columns.csv')\n",
        "df.info()"
      ]
    },
    {
      "cell_type": "markdown",
      "metadata": {
        "id": "rGBPI7Ozw9X-"
      },
      "source": [
        "Tiến hành xem xét thông tin của dataframe"
      ]
    },
    {
      "cell_type": "code",
      "execution_count": null,
      "metadata": {},
      "outputs": [],
      "source": [
        "\n",
        "class NaiveBayes:\n",
        "    def __init__(self, var_smoothing=1e-9):\n",
        "        self.var_smoothing = var_smoothing\n",
        "        \n",
        "    def fit(self, X, y):\n",
        "        self.classes = np.unique(y)\n",
        "        self.means = {}\n",
        "        self.vars = {}\n",
        "        self.priors = {}\n",
        "        \n",
        "        for c in self.classes:\n",
        "            X_c = X[y == c]\n",
        "            self.means[c] = X_c.mean(axis=0)\n",
        "            self.vars[c] = X_c.var(axis=0) + self.var_smoothing  # Prevent zero variance\n",
        "            self.priors[c] = len(X_c) / len(X)\n",
        "    \n",
        "    def _log_gaussian_pdf(self, x, mean, var):\n",
        "        return -0.5 * (np.log(2 * np.pi * var) + (x - mean)**2 / var)\n",
        "    \n",
        "    def predict(self, X):\n",
        "        posteriors = []\n",
        "        for c in self.classes:\n",
        "            prior = np.log(self.priors[c])\n",
        "            log_likelihood = np.sum(self._log_gaussian_pdf(X, self.means[c], self.vars[c]), axis=1)\n",
        "            posterior = prior + log_likelihood\n",
        "            posteriors.append(posterior)\n",
        "        posteriors = np.array(posteriors).T\n",
        "        return self.classes[np.argmax(posteriors, axis=1)]"
      ]
    },
    {
      "cell_type": "code",
      "execution_count": null,
      "metadata": {},
      "outputs": [],
      "source": [
        "def plot_confusion_matrix(y_true, y_pred, model_name):\n",
        "    cm = confusion_matrix(y_true, y_pred)\n",
        "    plt.figure(figsize=(6, 4))\n",
        "    sns.heatmap(cm, annot=True, fmt='d', cmap='Blues', cbar=False,\n",
        "                xticklabels=['No CVD', 'CVD'], yticklabels=['No CVD', 'CVD'])\n",
        "    plt.title(f'Confusion Matrix for {model_name}')\n",
        "    plt.xlabel('Predicted')\n",
        "    plt.ylabel('True')\n",
        "    plt.tight_layout()\n",
        "    plt.show()\n",
        "# Hàm đánh giá\n",
        "def evaluate_model(y_true, y_pred, model_name):\n",
        "    print(f\"Đánh giá cho {model_name}:\")\n",
        "    print(f\"Accuracy: {accuracy_score(y_true, y_pred):.4f}\")\n",
        "    print(f\"Precision: {precision_score(y_true, y_pred):.4f}\")\n",
        "    print(f\"Recall: {recall_score(y_true, y_pred):.4f}\")\n",
        "    print(f\"F1 Score: {f1_score(y_true, y_pred):.4f}\")\n",
        "    plot_confusion_matrix(y_true, y_pred, model_name)"
      ]
    },
    {
      "cell_type": "code",
      "execution_count": null,
      "metadata": {},
      "outputs": [],
      "source": [
        "\n",
        "# Chuẩn bị dữ liệu\n",
        "X = df.drop('CVDINFR4', axis=1)\n",
        "y = df['CVDINFR4']\n",
        "\n",
        "# Chia tập train-test\n",
        "X_train, X_test, y_train, y_test = train_test_split(X, y, test_size=0.3, random_state=42)\n",
        "\n",
        "\n"
      ]
    },
    {
      "cell_type": "code",
      "execution_count": 5,
      "metadata": {},
      "outputs": [
        {
          "name": "stdout",
          "output_type": "stream",
          "text": [
            "Đánh giá cho Naive Bayes:\n",
            "Accuracy: 0.9708\n",
            "Precision: 0.6527\n",
            "Recall: 0.9990\n",
            "F1 Score: 0.7895\n"
          ]
        },
        {
          "data": {
            "image/png": "[encoded data removed]",
            "text/plain": [
              "<Figure size 600x400 with 1 Axes>"
            ]
          },
          "metadata": {},
          "output_type": "display_data"
        }
      ],
      "source": [
        "nb = NaiveBayes(var_smoothing=1e-9)\n",
        "nb.fit(X_train.values, y_train.values)\n",
        "y_pred_nb = nb.predict(X_test.values)\n",
        "evaluate_model(y_test, y_pred_nb, \"Naive Bayes\")"
      ]
    },
    {
      "cell_type": "code",
      "execution_count": 6,
      "metadata": {},
      "outputs": [
        {
          "data": {
            "text/plain": [
              "['_nb.pkl']"
            ]
          },
          "execution_count": 6,
          "metadata": {},
          "output_type": "execute_result"
        }
      ],
      "source": [
        "\n",
        "joblib.dump(nb, '_nb.pkl')\n"
      ]
    }
  ],
  "metadata": {
    "accelerator": "GPU",
    "colab": {
      "gpuType": "T4",
      "provenance": []
    },
    "kernelspec": {
      "display_name": ".venv",
      "language": "python",
      "name": "python3"
    },
    "language_info": {
      "codemirror_mode": {
        "name": "ipython",
        "version": 3
      },
      "file_extension": ".py",
      "mimetype": "text/x-python",
      "name": "python",
      "nbconvert_exporter": "python",
      "pygments_lexer": "ipython3",
      "version": "3.12.10"
    }
  },
  "nbformat": 4,
  "nbformat_minor": 0
}
