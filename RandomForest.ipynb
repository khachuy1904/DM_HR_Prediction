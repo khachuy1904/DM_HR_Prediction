{
  "cells": [
    {
      "cell_type": "markdown",
      "metadata": {
        "id": "clM5K_bsw9X8"
      },
      "source": [
        "# Thêm các thư viện cần dùng"
      ]
    },
    {
      "cell_type": "code",
      "execution_count": 1,
      "metadata": {
        "colab": {
          "base_uri": "https://localhost:8080/"
        },
        "id": "pmKgITy2w9X8",
        "outputId": "f27b81a5-5cae-4e22-fad0-b0fb3f46f34c"
      },
      "outputs": [],
      "source": [
        "import numpy as np\n",
        "import pandas as pd\n",
        "import numpy as np\n",
        "import matplotlib.pyplot as plt\n",
        "import pandas as pd\n",
        "from sklearn.metrics import confusion_matrix, precision_score, recall_score, f1_score\n",
        "import joblib\n",
        "import numpy as np\n",
        "from sklearn.model_selection import train_test_split\n",
        "from sklearn.metrics import accuracy_score, precision_score, recall_score, f1_score, confusion_matrix\n",
        "import matplotlib.pyplot as plt\n",
        "import seaborn as sns\n",
        "from sklearn.metrics import confusion_matrix\n",
        "from collections import Counter\n",
        "from sklearn.preprocessing import StandardScaler\n",
        "from cvxopt import matrix\n",
        "from cvxopt import solvers\n",
        "import numpy as np\n",
        "from collections import defaultdict\n",
        "\n"
      ]
    },
    {
      "cell_type": "markdown",
      "metadata": {
        "id": "8F48CWmdw9X9"
      },
      "source": [
        "# TRÍCH XUẤT ĐẶC TRƯNG"
      ]
    },
    {
      "cell_type": "markdown",
      "metadata": {
        "id": "eBJIk8j_w9X9"
      },
      "source": [
        "Bởi bộ dữ liệu này quá lớn, vậy nên chúng tôi quyết định dùng 1 phần nhỏ của bộ data này, cụ thể là dữ liệu của năm 2015 để tiến hành phân tích và rút ra các đặc trưng quan trọng trong việc training mô hình"
      ]
    },
    {
      "cell_type": "code",
      "execution_count": 2,
      "metadata": {
        "colab": {
          "base_uri": "https://localhost:8080/",
          "height": 235
        },
        "id": "EDvSO2bqw9X-",
        "outputId": "88cc8bbe-bc81-4d69-e6f2-abca95b5940c"
      },
      "outputs": [
        {
          "name": "stdout",
          "output_type": "stream",
          "text": [
            "              _MICHD       CHOLMED3        GENHLTH       MAXVO21_  \\\n",
            "count  430755.000000  430755.000000  430755.000000  430755.000000   \n",
            "mean        1.916600       1.744407       2.625077    4545.553744   \n",
            "std         0.276486       0.610430       1.078342   12775.502758   \n",
            "min         1.000000       1.000000       1.000000     555.000000   \n",
            "25%         2.000000       1.000000       2.000000    2173.000000   \n",
            "50%         2.000000       2.000000       3.000000    2728.000000   \n",
            "75%         2.000000       2.000000       3.000000    3525.000000   \n",
            "max         2.000000       9.000000       9.000000   99900.000000   \n",
            "\n",
            "             EMPLOY1        BPHIGH6       DIABETE4       CVDSTRK3  \\\n",
            "count  430755.000000  430755.000000  430755.000000  430755.000000   \n",
            "mean        3.899483       2.208086       2.749407       1.970830   \n",
            "std         2.885213       1.047940       0.743139       0.327065   \n",
            "min         1.000000       1.000000       1.000000       1.000000   \n",
            "25%         1.000000       1.000000       3.000000       2.000000   \n",
            "50%         2.000000       3.000000       3.000000       2.000000   \n",
            "75%         7.000000       3.000000       3.000000       2.000000   \n",
            "max         9.000000       9.000000       9.000000       9.000000   \n",
            "\n",
            "              _AGE80       VETERAN3  ...       TRNSGNDR       PVTRESD3  \\\n",
            "count  430755.000000  430755.000000  ...  430755.000000  430755.000000   \n",
            "mean       55.346508       1.901499  ...       4.036046       1.003120   \n",
            "std        17.908049       0.486874  ...       0.474214       0.055771   \n",
            "min        18.000000       1.000000  ...       1.000000       1.000000   \n",
            "25%        41.000000       2.000000  ...       4.000000       1.000000   \n",
            "50%        58.000000       2.000000  ...       4.000000       1.000000   \n",
            "75%        70.000000       2.000000  ...       4.000000       1.000000   \n",
            "max        80.000000       9.000000  ...       9.000000       2.000000   \n",
            "\n",
            "            PRIMINS1       HAVARTH4       DIFFALON       SMOKE100  \\\n",
            "count  430755.000000  430755.000000  430755.000000  430755.000000   \n",
            "mean       10.799218       1.697643       1.945431       1.668591   \n",
            "std        24.811922       0.612432       0.420923       0.669924   \n",
            "min         1.000000       1.000000       1.000000       1.000000   \n",
            "25%         1.000000       1.000000       2.000000       1.000000   \n",
            "50%         3.000000       2.000000       2.000000       2.000000   \n",
            "75%         5.000000       2.000000       2.000000       2.000000   \n",
            "max        99.000000       9.000000       9.000000       9.000000   \n",
            "\n",
            "             ASTHMA3       LANDLINE       CHCOCNC1       CVDINFR4  \n",
            "count  430755.000000  430755.000000  430755.000000  430755.000000  \n",
            "mean        1.868477       1.856584       1.907911       0.054442  \n",
            "std         0.466159       0.474326       0.485758       0.226887  \n",
            "min         1.000000       1.000000       1.000000       0.000000  \n",
            "25%         2.000000       2.000000       2.000000       0.000000  \n",
            "50%         2.000000       2.000000       2.000000       0.000000  \n",
            "75%         2.000000       2.000000       2.000000       0.000000  \n",
            "max         9.000000       9.000000       9.000000       1.000000  \n",
            "\n",
            "[8 rows x 30 columns]\n"
          ]
        }
      ],
      "source": [
        "df = pd.read_csv ('./selected_columns.csv')\n",
        "print(df.describe())"
      ]
    },
    {
      "cell_type": "markdown",
      "metadata": {
        "id": "rGBPI7Ozw9X-"
      },
      "source": [
        "Tiến hành xem xét thông tin của dataframe"
      ]
    },
    {
      "cell_type": "code",
      "execution_count": 3,
      "metadata": {},
      "outputs": [
        {
          "data": {
            "text/plain": [
              "CVDINFR4\n",
              "0    407304\n",
              "1     23451\n",
              "Name: count, dtype: int64"
            ]
          },
          "execution_count": 3,
          "metadata": {},
          "output_type": "execute_result"
        }
      ],
      "source": [
        "#Kiểm tra các giá trị của CVDINFR4\n",
        "df['CVDINFR4'].value_counts()"
      ]
    },
    {
      "cell_type": "code",
      "execution_count": 4,
      "metadata": {},
      "outputs": [],
      "source": [
        "df = df.sample(frac=0.1, random_state=42)"
      ]
    },
    {
      "cell_type": "code",
      "execution_count": 5,
      "metadata": {},
      "outputs": [
        {
          "data": {
            "text/plain": [
              "CVDINFR4\n",
              "0    40757\n",
              "1     2319\n",
              "Name: count, dtype: int64"
            ]
          },
          "execution_count": 5,
          "metadata": {},
          "output_type": "execute_result"
        }
      ],
      "source": [
        "#Kiểm tra các giá trị của CVDINFR4\n",
        "df['CVDINFR4'].value_counts()"
      ]
    },
    {
      "cell_type": "code",
      "execution_count": 6,
      "metadata": {},
      "outputs": [],
      "source": [
        "\n",
        "class SVM:\n",
        "    def __init__(self, C=1.0, class_weight=None, max_iter=1000):\n",
        "        self.C = C\n",
        "        self.class_weight = class_weight if class_weight else {0: 1.0, 1: 1.0}\n",
        "        self.max_iter = max_iter\n",
        "        \n",
        "    def fit(self, X, y):\n",
        "        y = y.astype(int)\n",
        "        unique_classes = np.unique(y)\n",
        "        assert set(unique_classes).issubset({0, 1}), \"Chỉ hỗ trợ binary classification\"\n",
        "        assert all(c in self.class_weight for c in unique_classes), \"Thiếu class weight\"\n",
        "\n",
        "        n_samples, n_features = X.shape\n",
        "        y_ = np.where(y == 0, -1, 1)\n",
        "        C_i = np.array([self.C * self.class_weight[c] for c in y])\n",
        "        \n",
        "        K = np.dot(X, X.T)\n",
        "        P = matrix(np.outer(y_, y_) * K)\n",
        "        q = matrix(-np.ones(n_samples))\n",
        "        \n",
        "        G = matrix(np.vstack((-np.eye(n_samples), np.eye(n_samples))))\n",
        "        h = matrix(np.hstack((np.zeros(n_samples), C_i)))\n",
        "        A = matrix(y_.reshape(1, -1).astype('double'))\n",
        "        b = matrix(0.0)\n",
        "        \n",
        "        # Tắt thông báo\n",
        "        solvers.options['show_progress'] = False\n",
        "        solvers.options['maxiters'] = self.max_iter\n",
        "        \n",
        "        solution = solvers.qp(P, q, G, h, A, b)\n",
        "        alphas = np.array(solution['x']).flatten()\n",
        "        \n",
        "        sv = alphas > 1e-5\n",
        "        self.alphas = alphas[sv]\n",
        "        self.sv_X = X[sv]\n",
        "        self.sv_y = y_[sv]\n",
        "\n",
        "        self.b = np.mean(\n",
        "            self.sv_y - \n",
        "            np.sum(self.alphas * self.sv_y * self.sv_X.dot(self.sv_X.T), axis=1)\n",
        "        )\n",
        "        \n",
        "    def predict(self, X):\n",
        "        decision = np.sum(self.alphas * self.sv_y * X.dot(self.sv_X.T), axis=1) + self.b\n",
        "        return np.where(decision >= 0, 1, 0)"
      ]
    },
    {
      "cell_type": "code",
      "execution_count": 7,
      "metadata": {},
      "outputs": [],
      "source": [
        "\n",
        "class KNN:\n",
        "    def __init__(self, k=7, eps=1e-8):\n",
        "        self.k = k\n",
        "        self.eps = eps  # Prevents division by zero\n",
        "        \n",
        "    def fit(self, X, y):\n",
        "        self.X_train = X\n",
        "        self.y_train = y\n",
        "        self.classes = np.unique(y)\n",
        "        \n",
        "    def euclidean_distance(self, x1, x2):\n",
        "        return np.sqrt(np.sum((x1 - x2)**2 + self.eps))  # Add epsilon\n",
        "    \n",
        "    def predict(self, X_test):\n",
        "        y_pred = []\n",
        "        for x in X_test:\n",
        "            # Calculate all distances\n",
        "            distances = [(self.euclidean_distance(x, x_train), y_i) \n",
        "                        for x_train, y_i in zip(self.X_train, self.y_train)]\n",
        "            \n",
        "            # Get k nearest with distance weighting\n",
        "            k_nearest = sorted(distances, key=lambda x: x[0])[:self.k]\n",
        "            class_weights = defaultdict(float)\n",
        "            \n",
        "            for dist, label in k_nearest:\n",
        "                weight = 1 / (dist + self.eps)  # Inverse distance weighting\n",
        "                class_weights[label] += weight\n",
        "                \n",
        "            # Predict class with highest cumulative weight\n",
        "            if not class_weights:\n",
        "                y_pred.append(self.classes[0])  # Fallback to first class\n",
        "            else:\n",
        "                y_pred.append(max(class_weights, key=class_weights.get))\n",
        "                \n",
        "        return np.array(y_pred)\n",
        "    \n",
        "    def predict_proba(self, X_test):\n",
        "        probas = []\n",
        "        for x in X_test:\n",
        "            distances = [(self.euclidean_distance(x, x_train), y_i) \n",
        "                        for x_train, y_i in zip(self.X_train, self.y_train)]\n",
        "            \n",
        "            k_nearest = sorted(distances, key=lambda x: x[0])[:self.k]\n",
        "            class_weights = defaultdict(float)\n",
        "            \n",
        "            # Sum weights per class\n",
        "            for dist, label in k_nearest:\n",
        "                weight = 1 / (dist + self.eps)\n",
        "                class_weights[label] += weight\n",
        "                \n",
        "            # Laplace smoothing\n",
        "            total = sum(class_weights.values()) + len(self.classes)*self.eps\n",
        "            probabilities = []\n",
        "            \n",
        "            for cls in self.classes:\n",
        "                prob = (class_weights.get(cls, 0) + self.eps) / total\n",
        "                probabilities.append(prob)\n",
        "                \n",
        "            probas.append(probabilities)\n",
        "            \n",
        "        return np.array(probas)"
      ]
    },
    {
      "cell_type": "code",
      "execution_count": 8,
      "metadata": {},
      "outputs": [],
      "source": [
        "class DecisionTree:\n",
        "    def __init__(self, max_depth=None, min_samples_split=2):\n",
        "        self.max_depth = max_depth\n",
        "        self.min_samples_split = min_samples_split\n",
        "        \n",
        "    def _gini(self, y):\n",
        "        counts = np.bincount(y)\n",
        "        ps = counts / len(y)\n",
        "        return 1 - np.sum([p**2 for p in ps if p > 0])\n",
        "    \n",
        "    def _best_split(self, X, y):\n",
        "        best_feature, best_thresh = None, None\n",
        "        best_gini = float('inf')\n",
        "        \n",
        "        for feature_idx in range(X.shape[1]):\n",
        "            thresholds = np.unique(X[:, feature_idx])\n",
        "            for thresh in thresholds:\n",
        "                left_idx = X[:, feature_idx] <= thresh\n",
        "                if np.sum(left_idx) == 0 or np.sum(~left_idx) == 0:\n",
        "                    continue\n",
        "                gini = (self._gini(y[left_idx]) * len(y[left_idx]) + \n",
        "                        self._gini(y[~left_idx]) * len(y[~left_idx])) / len(y)\n",
        "                if gini < best_gini:\n",
        "                    best_gini = gini\n",
        "                    best_feature = feature_idx\n",
        "                    best_thresh = thresh\n",
        "        return best_feature, best_thresh\n",
        "    \n",
        "    def fit(self, X, y, depth=0):\n",
        "        if (self.max_depth is not None and depth >= self.max_depth) or len(y) < self.min_samples_split or np.unique(y).size == 1:\n",
        "            self.value = np.bincount(y).argmax()\n",
        "            return\n",
        "        \n",
        "        self.feature_idx, self.thresh = self._best_split(X, y)\n",
        "        if self.feature_idx is None:\n",
        "            self.value = np.bincount(y).argmax()\n",
        "            return\n",
        "        \n",
        "        left_idx = X[:, self.feature_idx] <= self.thresh\n",
        "        if np.sum(left_idx) == 0 or np.sum(~left_idx) == 0:\n",
        "            self.value = np.bincount(y).argmax()\n",
        "            return\n",
        "        \n",
        "        self.left = DecisionTree(self.max_depth, self.min_samples_split)\n",
        "        self.right = DecisionTree(self.max_depth, self.min_samples_split)\n",
        "        self.left.fit(X[left_idx], y[left_idx], depth+1)\n",
        "        self.right.fit(X[~left_idx], y[~left_idx], depth+1)\n",
        "    \n",
        "    def predict(self, X):\n",
        "        if hasattr(self, 'value'):\n",
        "            # Sửa ở đây: thêm dtype=int\n",
        "            return np.full(X.shape[0], self.value, dtype=int)\n",
        "        left_idx = X[:, self.feature_idx] <= self.thresh\n",
        "        # Sửa ở đây: khởi tạo mảng với dtype=int\n",
        "        y_pred = np.empty(X.shape[0], dtype=int)\n",
        "        y_pred[left_idx] = self.left.predict(X[left_idx])\n",
        "        y_pred[~left_idx] = self.right.predict(X[~left_idx])\n",
        "        return y_pred\n",
        "\n",
        "class RandomForest:\n",
        "    def __init__(self, n_trees=200, max_depth=10):\n",
        "        self.n_trees = n_trees\n",
        "        self.max_depth = max_depth\n",
        "        \n",
        "    def fit(self, X, y):\n",
        "        self.trees = []\n",
        "        for _ in range(self.n_trees):\n",
        "            idx = np.random.choice(len(X), len(X), replace=True)\n",
        "            tree = DecisionTree(max_depth=self.max_depth, min_samples_split=2)\n",
        "            tree.fit(X[idx], y[idx])\n",
        "            self.trees.append(tree)\n",
        "    \n",
        "    def predict(self, X):\n",
        "        all_preds = np.array([tree.predict(X) for tree in self.trees])\n",
        "        return np.apply_along_axis(lambda x: np.bincount(x).argmax(), axis=0, arr=all_preds)\n",
        "    \n",
        "    def predict_proba(self, X):\n",
        "        all_preds = np.array([tree.predict(X) for tree in self.trees])\n",
        "        probas = []\n",
        "        for i in range(X.shape[0]):\n",
        "            prob_1 = np.mean(all_preds[:,i])\n",
        "            probas.append([1-prob_1, prob_1])\n",
        "        return np.array(probas)"
      ]
    },
    {
      "cell_type": "code",
      "execution_count": 9,
      "metadata": {},
      "outputs": [],
      "source": [
        "\n",
        "class NaiveBayes:\n",
        "    def __init__(self, var_smoothing=1e-9):\n",
        "        self.var_smoothing = var_smoothing\n",
        "        \n",
        "    def fit(self, X, y):\n",
        "        self.classes = np.unique(y)\n",
        "        self.means = {}\n",
        "        self.vars = {}\n",
        "        self.priors = {}\n",
        "        \n",
        "        for c in self.classes:\n",
        "            X_c = X[y == c]\n",
        "            self.means[c] = X_c.mean(axis=0)\n",
        "            self.vars[c] = X_c.var(axis=0) + self.var_smoothing  # Prevent zero variance\n",
        "            self.priors[c] = len(X_c) / len(X)\n",
        "    \n",
        "    def _log_gaussian_pdf(self, x, mean, var):\n",
        "        # Directly compute log PDF without exponentiating\n",
        "        return -0.5 * (np.log(2 * np.pi * var) + (x - mean)**2 / var)\n",
        "    \n",
        "    def predict(self, X):\n",
        "        posteriors = []\n",
        "        for c in self.classes:\n",
        "            prior = np.log(self.priors[c])\n",
        "            # Use log-PDF directly and sum over features\n",
        "            log_likelihood = np.sum(self._log_gaussian_pdf(X, self.means[c], self.vars[c]), axis=1)\n",
        "            posterior = prior + log_likelihood\n",
        "            posteriors.append(posterior)\n",
        "        posteriors = np.array(posteriors).T\n",
        "        return self.classes[np.argmax(posteriors, axis=1)]"
      ]
    },
    {
      "cell_type": "code",
      "execution_count": 10,
      "metadata": {},
      "outputs": [],
      "source": [
        "\n",
        "\n",
        "class NeuralNetwork:\n",
        "    def __init__(self, input_size, class_weight=None):\n",
        "        self.W1 = np.random.randn(input_size, 64) * np.sqrt(2./input_size)\n",
        "        self.b1 = np.zeros(64)\n",
        "        self.W2 = np.random.randn(64, 32) * np.sqrt(2./64)\n",
        "        self.b2 = np.zeros(32)\n",
        "        self.W3 = np.random.randn(32, 1) * np.sqrt(2./32)\n",
        "        self.b3 = np.zeros(1)\n",
        "        self.class_weight = class_weight or {0:1, 1:1}\n",
        "        self.eps = 1e-7  # Added epsilon for numerical stability\n",
        "        \n",
        "    def relu(self, x):\n",
        "        return np.maximum(0, x)\n",
        "    \n",
        "    def sigmoid(self, x):\n",
        "        # Numerically stable sigmoid\n",
        "        positive_mask = (x >= 0)\n",
        "        negative_mask = ~positive_mask\n",
        "        result = np.zeros_like(x)\n",
        "        exp_neg_x = np.exp(-x[positive_mask])\n",
        "        result[positive_mask] = 1.0 / (1.0 + exp_neg_x)\n",
        "        exp_x = np.exp(x[negative_mask])\n",
        "        result[negative_mask] = exp_x / (1.0 + exp_x)\n",
        "        return result\n",
        "    \n",
        "    def forward(self, X):\n",
        "        self.z1 = X.dot(self.W1) + self.b1\n",
        "        self.a1 = self.relu(self.z1)\n",
        "        self.z2 = self.a1.dot(self.W2) + self.b2\n",
        "        self.a2 = self.relu(self.z2)\n",
        "        self.z3 = self.a2.dot(self.W3) + self.b3\n",
        "        return self.sigmoid(self.z3)\n",
        "    \n",
        "    def compute_loss(self, y, y_pred):\n",
        "        y = y.reshape(-1, 1)\n",
        "        weights = np.vectorize(lambda x: self.class_weight[x])(y)\n",
        "        # Clip predictions to avoid log(0)\n",
        "        y_pred = np.clip(y_pred, self.eps, 1 - self.eps)\n",
        "        return -np.mean(weights * (y * np.log(y_pred) + (1 - y) * np.log(1 - y_pred)))\n",
        "    \n",
        "    def fit(self, X, y, epochs=100, lr=0.01):\n",
        "        m = X.shape[0]  # Number of samples\n",
        "        for epoch in range(epochs):\n",
        "            # Forward pass\n",
        "            y_pred = self.forward(X)\n",
        "            \n",
        "            # Backpropagation\n",
        "            weights = np.vectorize(lambda x: self.class_weight[x])(y).reshape(-1,1)\n",
        "            grad_z3 = (y_pred - y.reshape(-1,1)) * weights / m  # Scale by batch size\n",
        "            \n",
        "            grad_W3 = self.a2.T.dot(grad_z3)\n",
        "            grad_b3 = np.sum(grad_z3, axis=0)\n",
        "            \n",
        "            grad_a2 = grad_z3.dot(self.W3.T)\n",
        "            grad_z2 = grad_a2 * (self.z2 > 0)\n",
        "            grad_W2 = self.a1.T.dot(grad_z2)\n",
        "            grad_b2 = np.sum(grad_z2, axis=0)\n",
        "            \n",
        "            grad_a1 = grad_z2.dot(self.W2.T)\n",
        "            grad_z1 = grad_a1 * (self.z1 > 0)\n",
        "            grad_W1 = X.T.dot(grad_z1)\n",
        "            grad_b1 = np.sum(grad_z1, axis=0)\n",
        "            \n",
        "            # Update parameters\n",
        "            self.W3 -= lr * grad_W3\n",
        "            self.b3 -= lr * grad_b3\n",
        "            self.W2 -= lr * grad_W2\n",
        "            self.b2 -= lr * grad_b2\n",
        "            self.W1 -= lr * grad_W1\n",
        "            self.b1 -= lr * grad_b1"
      ]
    },
    {
      "cell_type": "code",
      "execution_count": 11,
      "metadata": {},
      "outputs": [],
      "source": [
        "\n",
        "# Chuẩn bị dữ liệu\n",
        "X = df.drop('CVDINFR4', axis=1)\n",
        "y = df['CVDINFR4']\n",
        "\n",
        "# Chia tập train-test\n",
        "X_train, X_test, y_train, y_test = train_test_split(X, y, test_size=0.3, random_state=42)\n",
        "\n",
        "\n",
        "X_train_svm = X_train.sample(frac=0.1, random_state=42)  # Giữ lại 10%\n",
        "y_train_svm = y_train.loc[X_train_svm.index]  # Lấy y tương ứng\n",
        "\n",
        "\n",
        "scaler = StandardScaler()\n",
        "X_train_scaled = scaler.fit_transform(X_train_svm)\n",
        "X_test_scaled = scaler.transform(X_test)\n",
        "\n",
        "def plot_confusion_matrix(y_true, y_pred, model_name):\n",
        "    cm = confusion_matrix(y_true, y_pred)\n",
        "    plt.figure(figsize=(6, 4))\n",
        "    sns.heatmap(cm, annot=True, fmt='d', cmap='Blues', cbar=False,\n",
        "                xticklabels=['No CVD', 'CVD'], yticklabels=['No CVD', 'CVD'])\n",
        "    plt.title(f'Confusion Matrix for {model_name}')\n",
        "    plt.xlabel('Predicted')\n",
        "    plt.ylabel('True')\n",
        "    plt.tight_layout()\n",
        "    plt.show()\n",
        "# Hàm đánh giá\n",
        "def evaluate_model(y_true, y_pred, model_name):\n",
        "    print(f\"Đánh giá cho {model_name}:\")\n",
        "    print(f\"Accuracy: {accuracy_score(y_true, y_pred):.4f}\")\n",
        "    print(f\"Precision: {precision_score(y_true, y_pred):.4f}\")\n",
        "    print(f\"Recall: {recall_score(y_true, y_pred):.4f}\")\n",
        "    print(f\"F1 Score: {f1_score(y_true, y_pred):.4f}\")\n",
        "    plot_confusion_matrix(y_true, y_pred, model_name)\n"
      ]
    },
    {
      "cell_type": "code",
      "execution_count": 12,
      "metadata": {},
      "outputs": [
        {
          "name": "stdout",
          "output_type": "stream",
          "text": [
            "Đánh giá cho KNN:\n",
            "Accuracy: 0.9442\n",
            "Precision: 0.2692\n",
            "Recall: 0.0201\n",
            "F1 Score: 0.0374\n"
          ]
        },
        {
          "data": {
            "image/png": "[encoded data removed]",
            "text/plain": [
              "<Figure size 600x400 with 1 Axes>"
            ]
          },
          "metadata": {},
          "output_type": "display_data"
        }
      ],
      "source": [
        "knn = KNN(k=7)\n",
        "knn.fit(X_train.values, y_train.values)\n",
        "y_pred_knn = knn.predict(X_test.values)\n",
        "evaluate_model(y_test, y_pred_knn, \"KNN\")"
      ]
    },
    {
      "cell_type": "code",
      "execution_count": 13,
      "metadata": {},
      "outputs": [
        {
          "name": "stdout",
          "output_type": "stream",
          "text": [
            "Đánh giá cho Naive Bayes:\n",
            "Accuracy: 0.9713\n",
            "Precision: 0.6526\n",
            "Recall: 1.0000\n",
            "F1 Score: 0.7898\n"
          ]
        },
        {
          "data": {
            "image/png": "[encoded data removed]",
            "text/plain": [
              "<Figure size 600x400 with 1 Axes>"
            ]
          },
          "metadata": {},
          "output_type": "display_data"
        }
      ],
      "source": [
        "nb = NaiveBayes(var_smoothing=1e-9)\n",
        "nb.fit(X_train.values, y_train.values)\n",
        "y_pred_nb = nb.predict(X_test.values)\n",
        "evaluate_model(y_test, y_pred_nb, \"Naive Bayes\")"
      ]
    },
    {
      "cell_type": "code",
      "execution_count": 24,
      "metadata": {},
      "outputs": [
        {
          "name": "stdout",
          "output_type": "stream",
          "text": [
            "CVDINFR4\n",
            "0    40757\n",
            "1     2319\n",
            "Name: count, dtype: int64\n",
            "Đánh giá cho Neural Network:\n",
            "Accuracy: 0.9461\n",
            "Precision: 0.0000\n",
            "Recall: 0.0000\n",
            "F1 Score: 0.0000\n"
          ]
        },
        {
          "name": "stderr",
          "output_type": "stream",
          "text": [
            "/Users/jun/Downloads/WORKSPACE/TensorFlow/.venv/lib/python3.12/site-packages/sklearn/metrics/_classification.py:1565: UndefinedMetricWarning: Precision is ill-defined and being set to 0.0 due to no predicted samples. Use `zero_division` parameter to control this behavior.\n",
            "  _warn_prf(average, modifier, f\"{metric.capitalize()} is\", len(result))\n"
          ]
        },
        {
          "data": {
            "image/png": "[encoded data removed]",
            "text/plain": [
              "<Figure size 600x400 with 1 Axes>"
            ]
          },
          "metadata": {},
          "output_type": "display_data"
        }
      ],
      "source": [
        "print(df['CVDINFR4'].value_counts())\n",
        "class_weight = {0: 1, 1: 17.57}# Cân bằng lớp\n",
        "ann = NeuralNetwork(input_size=X_train.shape[1], class_weight=class_weight)\n",
        "ann.fit(X_train.values, y_train.values, epochs=100, lr=0.01)\n",
        "y_proba_ann = ann.forward(X_test.values).flatten()\n",
        "y_pred_ann = (y_proba_ann >= 0.5).astype(int)\n",
        "evaluate_model(y_test, y_pred_ann, \"Neural Network\")"
      ]
    },
    {
      "cell_type": "code",
      "execution_count": 15,
      "metadata": {},
      "outputs": [
        {
          "name": "stdout",
          "output_type": "stream",
          "text": [
            "Đánh giá cho Random Forest:\n",
            "Accuracy: 0.9683\n",
            "Precision: 0.6515\n",
            "Recall: 0.8852\n",
            "F1 Score: 0.7506\n"
          ]
        },
        {
          "data": {
            "image/png": "[encoded data removed]",
            "text/plain": [
              "<Figure size 600x400 with 1 Axes>"
            ]
          },
          "metadata": {},
          "output_type": "display_data"
        }
      ],
      "source": [
        "rf = RandomForest(n_trees=200)\n",
        "rf.fit(X_train.values, y_train.values)\n",
        "y_pred_rf = rf.predict(X_test.values)\n",
        "evaluate_model(y_test, y_pred_rf, \"Random Forest\")"
      ]
    },
    {
      "cell_type": "code",
      "execution_count": 16,
      "metadata": {},
      "outputs": [
        {
          "name": "stdout",
          "output_type": "stream",
          "text": [
            "Đánh giá cho SVM:\n",
            "Accuracy: 0.9710\n",
            "Precision: 0.6510\n",
            "Recall: 0.9957\n",
            "F1 Score: 0.7873\n"
          ]
        },
        {
          "data": {
            "image/png": "[encoded data removed]",
            "text/plain": [
              "<Figure size 600x400 with 1 Axes>"
            ]
          },
          "metadata": {},
          "output_type": "display_data"
        }
      ],
      "source": [
        "svm = SVM(\n",
        "    C=31.418972875029368,\n",
        "    class_weight={0: 1, 1: 18},\n",
        "    max_iter=1000\n",
        ")\n",
        "svm.fit(X_train_scaled, y_train_svm.values)\n",
        "y_pred_svm = svm.predict(X_test_scaled)\n",
        "evaluate_model(y_test, y_pred_svm, \"SVM\")"
      ]
    },
    {
      "cell_type": "code",
      "execution_count": 17,
      "metadata": {},
      "outputs": [
        {
          "data": {
            "text/plain": [
              "['_ann.pkl']"
            ]
          },
          "execution_count": 17,
          "metadata": {},
          "output_type": "execute_result"
        }
      ],
      "source": [
        "\n",
        "joblib.dump(knn, '_knn.pkl')\n",
        "joblib.dump(nb, '_nb.pkl')\n",
        "joblib.dump(rf, '_rf.pkl')\n",
        "joblib.dump(svm, '_svm.pkl')\n",
        "joblib.dump(ann, '_ann.pkl')"
      ]
    }
  ],
  "metadata": {
    "accelerator": "GPU",
    "colab": {
      "gpuType": "T4",
      "provenance": []
    },
    "kernelspec": {
      "display_name": ".venv",
      "language": "python",
      "name": "python3"
    },
    "language_info": {
      "codemirror_mode": {
        "name": "ipython",
        "version": 3
      },
      "file_extension": ".py",
      "mimetype": "text/x-python",
      "name": "python",
      "nbconvert_exporter": "python",
      "pygments_lexer": "ipython3",
      "version": "3.12.10"
    }
  },
  "nbformat": 4,
  "nbformat_minor": 0
}
